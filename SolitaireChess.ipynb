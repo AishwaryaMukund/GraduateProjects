{
 "cells": [
  {
   "cell_type": "markdown",
   "metadata": {},
   "source": [
    "# Solitaire Chess"
   ]
  },
  {
   "cell_type": "markdown",
   "metadata": {},
   "source": [
    "Variables defined\n",
    "\n",
    "1. initial_state: It is a list containing tuples where each tuple contains the pawn and its position on the board defined by the problem.\n",
    "2. Problem: It is a class that contains attributes related to the problem. \n",
    "    a. Constructor: A problem is instantiated by its initial_state.\n",
    "    b. Goal_Test: A method that determines if the problem has reached the goal state that is only one pawn on the board.\n",
    "    c. Result: A method that returns the resulting state after a pawn makes a move.\n",
    "    d. Actions: A method that returns set of legal moves of all the pawns on the board.\n",
    "3. Node: A class that represents the state of board at any given time. It has attributes state of the board, action performed on the board, the parent node representing the previous state of board.\n",
    "4. Child_Node(): A method used to instantiate a node with its correct attributes.\n",
    "4. Queue: It is a class that handles a list in FIFO way.\n",
    "5. Stack: It is a class that handles a list in LIFO way.\n",
    "6. cmp() : It is a method used to compare two tuples."
   ]
  },
  {
   "cell_type": "code",
   "execution_count": 14,
   "metadata": {
    "collapsed": true
   },
   "outputs": [],
   "source": [
    "initial_state = []\n",
    "\n",
    "#Compares the tuples a and b\n",
    "def cmp(a, b):\n",
    "    return (a > b) - (a < b)\n",
    "\n",
    "#All necessary information and methods are encapsulated in a class Problem.\n",
    "class Problem:\n",
    "    def __init__(self,problem_state,current_state=[],actions=set()):\n",
    "        self.problem_state = initial_state\n",
    "        self.actions = actions\n",
    "     \n",
    "    #Function used to check if the goal state has reached.\n",
    "    def Goal_Test(self,problem_state):\n",
    "        return len(problem_state) == 1 if True else False\n",
    "    \n",
    "    #Performs the move of a piece\n",
    "    def Result(self,parent_state,action):\n",
    "        current_state = []\n",
    "        for state in parent_state:\n",
    "            if (cmp(state[1], action[1]) == 0) :\n",
    "                state1 = state\n",
    "            elif (cmp(state[0], action[0]) == 0):\n",
    "                state2 = state\n",
    "            else :\n",
    "                current_state.append(state)\n",
    "        current_state.append(action)\n",
    "        return current_state\n",
    "    \n",
    "    #Finds all the legal moves for all the pieces\n",
    "    def Actions(self,problem_state):\n",
    "        actions = set()\n",
    "        def rook(pawn):\n",
    "            #print(\"brook\")\n",
    "            i = pawn[1][0]\n",
    "            j = pawn[1][1]\n",
    "\n",
    "            for k in problem_state:\n",
    "                if cmp(k,pawn) != 0:\n",
    "                    if i == k[1][0]:\n",
    "                        actions.add((pawn[0], (k[1][0],k[1][1])))\n",
    "                    if j == k[1][1]:\n",
    "                        #print (\"kill \", k[0])\n",
    "                            actions.add((pawn[0], (k[1][0],k[1][1])))\n",
    "\n",
    "        def knight(pawn):\n",
    "            #print(\"horse\")\n",
    "            i = pawn[1][0]\n",
    "            j = pawn[1][1]\n",
    "\n",
    "            for k in problem_state:\n",
    "                if cmp(k,pawn) != 0:\n",
    "                    if ((i+1==k[1][0] or i-1==k[1][0]) and (j+2==k[1][1] or j-2==k[1][1])) or ((i+2==k[1][0] or i-2==k[1][0]) and (j+1==k[1][1] or j-1==k[1][1]) ) :\n",
    "                        #print(\"kill \", k[0])\n",
    "                        actions.add((pawn[0], (k[1][0],k[1][1])))\n",
    "\n",
    "        def soldier(pawn):\n",
    "            #print(\"soldier\")\n",
    "            i = pawn[1][0]\n",
    "            j = pawn[1][1]\n",
    "\n",
    "            for k in problem_state:\n",
    "                if cmp(k,pawn) != 0:\n",
    "                    if (i+1==k[1][0] or i-1==k[1][0]) and (j+1==k[1][1] or j-1==k[1][1]) :\n",
    "                        #print(\"kill \", k[0])\n",
    "                        actions.add((pawn[0], (k[1][0],k[1][1])))\n",
    "\n",
    "        def queen(pawn):\n",
    "            #print(\"queen\")\n",
    "            i = pawn[1][0]\n",
    "            j = pawn[1][1]\n",
    "\n",
    "            for k in problem_state:\n",
    "                if cmp(k,pawn) != 0:\n",
    "                    if i == k[1][0]:\n",
    "                            actions.add((pawn[0], (k[1][0],k[1][1])))\n",
    "                    if j == k[1][1]:\n",
    "                            actions.add((pawn[0], (k[1][0],k[1][1])))\n",
    "                    for l in range(3):\n",
    "                        if (i+l==k[1][0] or i-l==k[1][0]) and (j+l==k[1][1] or j-l==k[1][1]) :\n",
    "                            #print(\"kill \", k[0])\n",
    "                            actions.add((pawn[0], (k[1][0],k[1][1])))\n",
    "                            \n",
    "        def king(pawn):\n",
    "            i = pawn[1][0]\n",
    "            j = pawn[1][1]\n",
    "            \n",
    "            for k in problem_state:\n",
    "                if cmp(k,pawn) != 0:\n",
    "                    if (i+1==k[1][0] or i-1==k[1][0] or i==k[1][0]) and (j+1==k[1][1] or j-1==k[1][1] or j==k[1][1]):\n",
    "                        #print(\"kill \", k[0])\n",
    "                        actions.add((pawn[0], (k[1][0],k[1][1])))\n",
    "\n",
    "        def bishop(pawn):\n",
    "            #print(\"minister\")\n",
    "            i = pawn[1][0]\n",
    "            j = pawn[1][1]\n",
    "\n",
    "            for k in problem_state:\n",
    "                if cmp(k,pawn) != 0:\n",
    "                    for l in range(3):\n",
    "                        if (i+l==k[1][0] or i-l==k[1][0]) and (j+l==k[1][1] or j-l==k[1][1]) :\n",
    "                            #print(\"kill \", k[0])\n",
    "                            actions.add((pawn[0], (k[1][0],k[1][1])))\n",
    "        #Dictionary mapping\n",
    "        switch = {\n",
    "            'R' : rook,\n",
    "            'R1' : rook,\n",
    "            'R2' : rook,\n",
    "            'H' : knight,\n",
    "            'H1' : knight,\n",
    "            'H2' : knight,\n",
    "            'S' : soldier,\n",
    "            'S1' : soldier,\n",
    "            'S2' : soldier,\n",
    "            'Q' : queen,\n",
    "            'K' : king,\n",
    "            'B' : bishop,\n",
    "            'B1' : bishop,\n",
    "            'B2' : bishop,\n",
    "            \n",
    "        }\n",
    "        \n",
    "        for pawn in problem_state:\n",
    "            switch[pawn[0]](pawn)\n",
    "        return actions\n",
    "\n",
    "#Class used to represent any instance during the game.\n",
    "class Node:\n",
    "    def __init__(self,state=[], parent=None, action=set()):\n",
    "        self.state = state\n",
    "        self.parent = parent\n",
    "        self.action = action\n",
    "\n",
    "#Update the instance of the game after every move\n",
    "def Child_Node(problem,parent,action):\n",
    "    node = Node()\n",
    "    node.state = problem.Result(parent.state,action)\n",
    "    node.parent = parent\n",
    "    node.action = action\n",
    "    return node\n",
    "\n",
    "class Queue:\n",
    "    def __init__(self):\n",
    "        self.items = []\n",
    "\n",
    "    def isEmpty(self):\n",
    "        return self.items == []\n",
    "\n",
    "    def enqueue(self, item):\n",
    "        self.items.insert(0,item)\n",
    "\n",
    "    def dequeue(self):\n",
    "        return self.items.pop()\n",
    "\n",
    "    def size(self):\n",
    "        return len(self.items)\n",
    "    \n",
    "    def exists(self, item):\n",
    "        q = self.items\n",
    "        if item in q:\n",
    "            return True\n",
    "        else:\n",
    "            return False\n",
    "        \n",
    "        \n",
    "class Stack:\n",
    "    def __init__(self):\n",
    "        self.items = []\n",
    "\n",
    "    def isEmpty(self):\n",
    "         return self.items == []\n",
    "\n",
    "    def push(self, item):\n",
    "         self.items.append(item)\n",
    "\n",
    "    def pop(self):\n",
    "         return self.items.pop()\n",
    "\n",
    "    def peek(self):\n",
    "         return self.items[len(self.items)-1]\n",
    "\n",
    "    def size(self):\n",
    "         return len(self.items)\n",
    "        \n",
    "    def exists(self, item):\n",
    "        s = self.items\n",
    "        if item in s:\n",
    "            return True\n",
    "        else:\n",
    "            return False     \n",
    "    \n"
   ]
  },
  {
   "cell_type": "markdown",
   "metadata": {},
   "source": [
    "Read input from file.\n",
    "Input is stored in form of tuples and appended to a list.\n",
    "This list is used to instantiate the problem with its initial state."
   ]
  },
  {
   "cell_type": "code",
   "execution_count": 15,
   "metadata": {},
   "outputs": [
    {
     "name": "stdout",
     "output_type": "stream",
     "text": [
      "[('S1', (0, 0)), ('B1', (2, 0)), ('B2', (0, 1)), ('S2', (0, 2)), ('R1', (1, 1)), ('K', (2, 1)), ('H', (2, 2)), ('R2', (3, 3))]\n"
     ]
    }
   ],
   "source": [
    "f = open(\"ChessInput4\", \"r\")\n",
    "for line in f: \n",
    "    l = line.split(\" \")\n",
    "    p1 = (l[0], (int(l[1]),int(l[2])))\n",
    "    initial_state.append(p1)\n",
    "print(initial_state)\n",
    "problem = Problem(initial_state)"
   ]
  },
  {
   "cell_type": "markdown",
   "metadata": {},
   "source": [
    "The solution method traces back from the final state to the parent and prints out the correct moves in order."
   ]
  },
  {
   "cell_type": "code",
   "execution_count": 16,
   "metadata": {
    "collapsed": true
   },
   "outputs": [],
   "source": [
    "def solution(node):\n",
    "    correct_moves = Stack()\n",
    "    while(node.parent != None):\n",
    "        correct_moves.push(node.action)\n",
    "        parent = node.parent\n",
    "        node = parent\n",
    "    print(\"Correct moves are: \")\n",
    "    while(correct_moves.size() > 0) :\n",
    "        print(correct_moves.pop())\n",
    "            "
   ]
  },
  {
   "cell_type": "markdown",
   "metadata": {},
   "source": [
    "Breadth First Search\n",
    "    "
   ]
  },
  {
   "cell_type": "code",
   "execution_count": 17,
   "metadata": {
    "scrolled": false
   },
   "outputs": [
    {
     "name": "stdout",
     "output_type": "stream",
     "text": [
      "Node:  5048\n",
      "Correct moves are: \n",
      "('B1', (0, 2))\n",
      "('R1', (0, 1))\n",
      "('R1', (0, 0))\n",
      "('R1', (0, 2))\n",
      "('R1', (2, 2))\n",
      "('K', (2, 2))\n",
      "('K', (3, 3))\n"
     ]
    }
   ],
   "source": [
    "def bfs(problem):\n",
    "    count = 0\n",
    "    node = Node(problem.problem_state)\n",
    "    if problem.Goal_Test(node.state):\n",
    "        solution(node)\n",
    "    frontier = Queue()\n",
    "    frontier.enqueue(node)\n",
    "    explored = []\n",
    "    while(not frontier.isEmpty()):\n",
    "        node = frontier.dequeue();\n",
    "        explored.append(node.state)\n",
    "        for action in problem.Actions(node.state):\n",
    "            child = Child_Node(problem,node,action)\n",
    "            if child.state not in explored and not frontier.exists(child):\n",
    "                count = count + 1\n",
    "                #print(\"Node visited: \", count)\n",
    "                #print(\"Action: \", action)\n",
    "                #print(\"Child state: \", child.state)\n",
    "                if problem.Goal_Test(child.state):\n",
    "                    print(\"Node: \", count)\n",
    "                    return child\n",
    "                    \n",
    "            frontier.enqueue(child) \n",
    "            \n",
    "result = bfs(problem)\n",
    "solution(result)"
   ]
  },
  {
   "cell_type": "markdown",
   "metadata": {},
   "source": [
    "Depth First Search"
   ]
  },
  {
   "cell_type": "code",
   "execution_count": 18,
   "metadata": {
    "scrolled": false
   },
   "outputs": [
    {
     "name": "stdout",
     "output_type": "stream",
     "text": [
      "Node:  17\n",
      "Correct moves are: \n",
      "('B1', (0, 2))\n",
      "('R1', (0, 1))\n",
      "('R1', (0, 0))\n",
      "('R1', (0, 2))\n",
      "('R1', (2, 2))\n",
      "('K', (2, 2))\n",
      "('K', (3, 3))\n"
     ]
    }
   ],
   "source": [
    "def recursive_dfs(frontier,problem,explored,count):   \n",
    "    while(not frontier.isEmpty()):\n",
    "        node = frontier.pop();     \n",
    "        explored.append(node.state)\n",
    "        for action in problem.Actions(node.state):\n",
    "            child = Child_Node(problem,node,action)\n",
    "            if child.state not in explored and not frontier.exists(child):\n",
    "                count = count + 1\n",
    "                #print(\"Action: \", action)\n",
    "                #print(\"Child state: \", child.state)\n",
    "                if problem.Goal_Test(child.state):\n",
    "                    print(\"Node: \", count)\n",
    "                    return child\n",
    "                frontier.push(child)\n",
    "            result = recursive_dfs(frontier,problem,explored,count)\n",
    "            if result is not None:\n",
    "                return result\n",
    "            \n",
    "\n",
    "def dfs(problem):\n",
    "    node = Node(problem.problem_state)\n",
    "    if problem.Goal_Test(node.state):\n",
    "        solution(node)\n",
    "    frontier = Stack()\n",
    "    frontier.push(node)\n",
    "    explored = []\n",
    "    count = 0\n",
    "    result = recursive_dfs(frontier,problem,explored,count)\n",
    "    solution(result)\n",
    "     \n",
    "            \n",
    "dfs(problem)\n"
   ]
  },
  {
   "cell_type": "markdown",
   "metadata": {
    "collapsed": true
   },
   "source": [
    "Iterative Deepening Depth First Search "
   ]
  },
  {
   "cell_type": "code",
   "execution_count": 22,
   "metadata": {},
   "outputs": [
    {
     "name": "stdout",
     "output_type": "stream",
     "text": [
      "Node:  17\n",
      "Node2:  0\n",
      "Correct Moves\n",
      "('B1', (0, 2))\n",
      "('R1', (0, 1))\n",
      "('R1', (0, 0))\n",
      "('R1', (0, 2))\n",
      "('R1', (2, 2))\n",
      "('K', (2, 2))\n",
      "('K', (3, 3))\n"
     ]
    }
   ],
   "source": [
    "def iddfs(root, maximum_depth):\n",
    "    count = 0\n",
    "    for depth in range(0, maximum_depth):\n",
    "        explored = []\n",
    "        result = _dls([root], depth, explored, count)\n",
    "        if result is None:\n",
    "            continue\n",
    "        return result\n",
    "    \n",
    "    raise ValueError('goal not in graph with depth {}'.format(maximum_depth))\n",
    "\n",
    "def _dls(path, depth: int, explored, count):\n",
    "    current = path[-1]\n",
    "    if current.state not in explored:\n",
    "        explored.append(current)\n",
    "        #print(\"Action: \", current.action)\n",
    "        #print(\"current state: \", current.state)\n",
    "    if problem.Goal_Test(current.state):\n",
    "        print(\"Node: \", count)\n",
    "        return path\n",
    "    if depth <= 0:\n",
    "        return None\n",
    "    for action in problem.Actions(current.state):\n",
    "        child = Child_Node(problem,current,action)\n",
    "        if child.state not in explored:\n",
    "            count = count + 1\n",
    "            #print(\"Action: \", action)\n",
    "            #print(\"Child state: \", child.state)\n",
    "            new_path = list(path)\n",
    "            new_path.append(child)\n",
    "            result = _dls(new_path, depth - 1, explored, count)\n",
    "            if result is not None:\n",
    "                return result\n",
    "        \n",
    "root = Node(problem.problem_state)\n",
    "sol = iddfs(root, len(problem.problem_state))\n",
    "print(\"Correct Moves\")\n",
    "for s in sol:\n",
    "    if len(s.action) > 0:\n",
    "        print(s.action)"
   ]
  },
  {
   "cell_type": "code",
   "execution_count": null,
   "metadata": {
    "collapsed": true
   },
   "outputs": [],
   "source": []
  },
  {
   "cell_type": "code",
   "execution_count": null,
   "metadata": {
    "collapsed": true
   },
   "outputs": [],
   "source": []
  }
 ],
 "metadata": {
  "kernelspec": {
   "display_name": "Python 3",
   "language": "python",
   "name": "python3"
  },
  "language_info": {
   "codemirror_mode": {
    "name": "ipython",
    "version": 3
   },
   "file_extension": ".py",
   "mimetype": "text/x-python",
   "name": "python",
   "nbconvert_exporter": "python",
   "pygments_lexer": "ipython3",
   "version": "3.6.3"
  }
 },
 "nbformat": 4,
 "nbformat_minor": 2
}
