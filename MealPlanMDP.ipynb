{
 "cells": [
  {
   "cell_type": "markdown",
   "metadata": {},
   "source": [
    "# Markov Decision Process"
   ]
  },
  {
   "cell_type": "markdown",
   "metadata": {},
   "source": [
    "Markov decision processes (MDPs) provide a mathematical framework for modeling decision making in situations where outcomes are partly random and partly under the control of a decision maker. A problem in this process is defined as:\n",
    "    1.States: All the possible states that the agent could be in.\n",
    "    2.Actions: Possible actions taken for a given state to reach another state.\n",
    "    3.Rewards: A reward is granted for every transition made based on the action taken to reach a state.\n",
    "    4.Transition: It tells the probability of reaching state s' from state s if action a is performed.\n",
    "The decision to select the action for a given state is independent of previous transitions and is solely dependent on current state and action.\n",
    "The solution for the MDP is given by a policy that contains actions to be taken for a given state."
   ]
  },
  {
   "cell_type": "markdown",
   "metadata": {},
   "source": [
    "Rewards are list of tuples where each tuple consits of state and its corresponding state. Rewards for terminal states are defined in combo.csv file. \n"
   ]
  },
  {
   "cell_type": "code",
   "execution_count": 9,
   "metadata": {},
   "outputs": [
    {
     "data": {
      "text/html": [
       "<div>\n",
       "<style>\n",
       "    .dataframe thead tr:only-child th {\n",
       "        text-align: right;\n",
       "    }\n",
       "\n",
       "    .dataframe thead th {\n",
       "        text-align: left;\n",
       "    }\n",
       "\n",
       "    .dataframe tbody tr th {\n",
       "        vertical-align: top;\n",
       "    }\n",
       "</style>\n",
       "<table border=\"1\" class=\"dataframe\">\n",
       "  <thead>\n",
       "    <tr style=\"text-align: right;\">\n",
       "      <th></th>\n",
       "      <th>Combo</th>\n",
       "      <th>Reward</th>\n",
       "    </tr>\n",
       "  </thead>\n",
       "  <tbody>\n",
       "    <tr>\n",
       "      <th>0</th>\n",
       "      <td>1</td>\n",
       "      <td>-2</td>\n",
       "    </tr>\n",
       "    <tr>\n",
       "      <th>1</th>\n",
       "      <td>1 2</td>\n",
       "      <td>14</td>\n",
       "    </tr>\n",
       "    <tr>\n",
       "      <th>2</th>\n",
       "      <td>1 3</td>\n",
       "      <td>-4</td>\n",
       "    </tr>\n",
       "    <tr>\n",
       "      <th>3</th>\n",
       "      <td>1 4</td>\n",
       "      <td>14</td>\n",
       "    </tr>\n",
       "    <tr>\n",
       "      <th>4</th>\n",
       "      <td>1 5</td>\n",
       "      <td>14</td>\n",
       "    </tr>\n",
       "    <tr>\n",
       "      <th>5</th>\n",
       "      <td>1 2 3</td>\n",
       "      <td>8</td>\n",
       "    </tr>\n",
       "    <tr>\n",
       "      <th>6</th>\n",
       "      <td>1 2 4</td>\n",
       "      <td>10</td>\n",
       "    </tr>\n",
       "    <tr>\n",
       "      <th>7</th>\n",
       "      <td>1 2 5</td>\n",
       "      <td>20</td>\n",
       "    </tr>\n",
       "    <tr>\n",
       "      <th>8</th>\n",
       "      <td>1 3 4</td>\n",
       "      <td>8</td>\n",
       "    </tr>\n",
       "    <tr>\n",
       "      <th>9</th>\n",
       "      <td>1 3 5</td>\n",
       "      <td>8</td>\n",
       "    </tr>\n",
       "    <tr>\n",
       "      <th>10</th>\n",
       "      <td>1 4 5</td>\n",
       "      <td>10</td>\n",
       "    </tr>\n",
       "    <tr>\n",
       "      <th>11</th>\n",
       "      <td>1 2 3 4</td>\n",
       "      <td>6</td>\n",
       "    </tr>\n",
       "    <tr>\n",
       "      <th>12</th>\n",
       "      <td>1 2 3 5</td>\n",
       "      <td>6</td>\n",
       "    </tr>\n",
       "    <tr>\n",
       "      <th>13</th>\n",
       "      <td>1 3 4 5</td>\n",
       "      <td>6</td>\n",
       "    </tr>\n",
       "    <tr>\n",
       "      <th>14</th>\n",
       "      <td>1 2 3 4 5</td>\n",
       "      <td>2</td>\n",
       "    </tr>\n",
       "    <tr>\n",
       "      <th>15</th>\n",
       "      <td>2 3 4 5</td>\n",
       "      <td>6</td>\n",
       "    </tr>\n",
       "    <tr>\n",
       "      <th>16</th>\n",
       "      <td>2 3 4</td>\n",
       "      <td>10</td>\n",
       "    </tr>\n",
       "    <tr>\n",
       "      <th>17</th>\n",
       "      <td>2 3 5</td>\n",
       "      <td>16</td>\n",
       "    </tr>\n",
       "    <tr>\n",
       "      <th>18</th>\n",
       "      <td>2 3</td>\n",
       "      <td>14</td>\n",
       "    </tr>\n",
       "    <tr>\n",
       "      <th>19</th>\n",
       "      <td>2 4</td>\n",
       "      <td>12</td>\n",
       "    </tr>\n",
       "    <tr>\n",
       "      <th>20</th>\n",
       "      <td>2 5</td>\n",
       "      <td>18</td>\n",
       "    </tr>\n",
       "    <tr>\n",
       "      <th>21</th>\n",
       "      <td>3 4 5</td>\n",
       "      <td>10</td>\n",
       "    </tr>\n",
       "    <tr>\n",
       "      <th>22</th>\n",
       "      <td>3 4</td>\n",
       "      <td>14</td>\n",
       "    </tr>\n",
       "    <tr>\n",
       "      <th>23</th>\n",
       "      <td>3 5</td>\n",
       "      <td>14</td>\n",
       "    </tr>\n",
       "    <tr>\n",
       "      <th>24</th>\n",
       "      <td>4 5</td>\n",
       "      <td>12</td>\n",
       "    </tr>\n",
       "    <tr>\n",
       "      <th>25</th>\n",
       "      <td>2</td>\n",
       "      <td>-2</td>\n",
       "    </tr>\n",
       "    <tr>\n",
       "      <th>26</th>\n",
       "      <td>3</td>\n",
       "      <td>-2</td>\n",
       "    </tr>\n",
       "    <tr>\n",
       "      <th>27</th>\n",
       "      <td>4</td>\n",
       "      <td>-2</td>\n",
       "    </tr>\n",
       "    <tr>\n",
       "      <th>28</th>\n",
       "      <td>5</td>\n",
       "      <td>-2</td>\n",
       "    </tr>\n",
       "    <tr>\n",
       "      <th>29</th>\n",
       "      <td>2 4 5</td>\n",
       "      <td>10</td>\n",
       "    </tr>\n",
       "    <tr>\n",
       "      <th>30</th>\n",
       "      <td>1 2 4 5</td>\n",
       "      <td>6</td>\n",
       "    </tr>\n",
       "  </tbody>\n",
       "</table>\n",
       "</div>"
      ],
      "text/plain": [
       "        Combo  Reward\n",
       "0           1      -2\n",
       "1         1 2      14\n",
       "2         1 3      -4\n",
       "3         1 4      14\n",
       "4         1 5      14\n",
       "5       1 2 3       8\n",
       "6       1 2 4      10\n",
       "7       1 2 5      20\n",
       "8       1 3 4       8\n",
       "9       1 3 5       8\n",
       "10      1 4 5      10\n",
       "11    1 2 3 4       6\n",
       "12    1 2 3 5       6\n",
       "13    1 3 4 5       6\n",
       "14  1 2 3 4 5       2\n",
       "15    2 3 4 5       6\n",
       "16      2 3 4      10\n",
       "17      2 3 5      16\n",
       "18        2 3      14\n",
       "19        2 4      12\n",
       "20        2 5      18\n",
       "21      3 4 5      10\n",
       "22        3 4      14\n",
       "23        3 5      14\n",
       "24        4 5      12\n",
       "25          2      -2\n",
       "26          3      -2\n",
       "27          4      -2\n",
       "28          5      -2\n",
       "29      2 4 5      10\n",
       "30    1 2 4 5       6"
      ]
     },
     "execution_count": 9,
     "metadata": {},
     "output_type": "execute_result"
    }
   ],
   "source": [
    "import pandas as pd\n",
    "combo = pd.read_csv(\"combo.csv\")\n",
    "combo"
   ]
  },
  {
   "cell_type": "markdown",
   "metadata": {},
   "source": [
    "getR() matches the combination in csv file with the input sequence and returns the corresponding reward, if the sequence is in terminal state. Otherwise reward is set to 0."
   ]
  },
  {
   "cell_type": "code",
   "execution_count": 10,
   "metadata": {
    "collapsed": true
   },
   "outputs": [],
   "source": [
    "def getR(sequence):\n",
    "    if(sequence[1]==6):\n",
    "        if(len(str(sequence[0]))==1):\n",
    "            plate_str=str(sequence[0])\n",
    "        else:\n",
    "            plate_str = ' '.join(str(e) for e in sequence[0])\n",
    "        if(plate_str==''):\n",
    "            return -10\n",
    "        #print(plate_str,'plate')\n",
    "        data_I = combo[combo['Combo'] == plate_str]\n",
    "        reward = int(data_I['Reward'])\n",
    "        return reward\n",
    "             #read from table\n",
    "    else:\n",
    "        return 0"
   ]
  },
  {
   "cell_type": "markdown",
   "metadata": {},
   "source": [
    "Value() function is used to calculate a part of Bellman Equation. It gives the sum of products of probabilty to reach a state s' from given state s and action a and utility value of resulting state s'."
   ]
  },
  {
   "cell_type": "markdown",
   "metadata": {},
   "source": [
    "# Value Iteration"
   ]
  },
  {
   "cell_type": "code",
   "execution_count": 11,
   "metadata": {
    "collapsed": true
   },
   "outputs": [],
   "source": [
    "def Value(s,a,U):\n",
    "    total = 0\n",
    "    if(s[0]==()):\n",
    "        p=[(s[0],s[1]+1),((s[1],),s[1]+1)] \n",
    "    else:\n",
    "        L=list(s[0])\n",
    "        L.append(s[1])\n",
    "        T=tuple(L)\n",
    "        p=[(s[0],s[1]+1),(T,s[1]+1)] \n",
    "    if(a=='dontbuy'):\n",
    "        pr=1.0\n",
    "        total += pr * U[p[0]] \n",
    "    else:\n",
    "        pr=prob[s[1]] \n",
    "        total += (pr * U[p[1]] + (1-pr)* U[p[0]])\n",
    "    return total"
   ]
  },
  {
   "cell_type": "markdown",
   "metadata": {},
   "source": [
    "It is used to calculate the optimal policy. It uses the Bellman equation to calculate the utility value of all the states. According to Bellman Equation, the utility of a state is the immediate reward\n",
    "for that state plus the expected discounted utility of the next state, assuming that the agent\n",
    "chooses the optimal action.\n",
    "value_iteration() function calculates the utility of all states. The number of iterations is controlled by the delta condition and epsilon value."
   ]
  },
  {
   "cell_type": "code",
   "execution_count": 12,
   "metadata": {
    "collapsed": true
   },
   "outputs": [],
   "source": [
    "def value_iteration(gamma, epsilon=0.01):\n",
    "    \"Solving an MDP by value iteration. [Fig. 17.4]\"\n",
    "    U1 = dict([(s, 0) for s in states])\n",
    "    count = 0\n",
    "    while True:\n",
    "        U = U1.copy()\n",
    "        delta = 0\n",
    "        for s in states:\n",
    "            l = []\n",
    "            if(s[1]!=6):\n",
    "                for a in actions:\n",
    "                    l.append(Value(s,a,U))\n",
    "            if len(l) > 0:\n",
    "                m = max(l)\n",
    "            else:\n",
    "                m = 0\n",
    "            U1[s] = getR(s) + gamma*m\n",
    "            U1[s] = round(U1[s],4)\n",
    "            delta = max(delta, abs(U1[s] - U[s]))\n",
    "        count += 1\n",
    "        print(U)\n",
    "        if delta <= epsilon * (1 - gamma) / gamma:\n",
    "            print(\"Number of iterations: \", count-1)\n",
    "            return U"
   ]
  },
  {
   "cell_type": "markdown",
   "metadata": {},
   "source": [
    "Optimal policy is determined by choosing the action that gave the max value in the last iteration of utility value of a state."
   ]
  },
  {
   "cell_type": "code",
   "execution_count": 13,
   "metadata": {
    "collapsed": true
   },
   "outputs": [],
   "source": [
    "def optimal_policy(U):\n",
    "    pi = {}\n",
    "    for s in states:\n",
    "        if(s[1]==6):\n",
    "            pi[s]='Terminal State'\n",
    "        else:\n",
    "            l = []\n",
    "            for a in actions:\n",
    "                l.append((a,Value(s,a,U)))\n",
    "            if len(l) > 0 :\n",
    "                pi[s] = max(l,key=lambda item:item[1])[0]\n",
    "    return pi"
   ]
  },
  {
   "cell_type": "markdown",
   "metadata": {},
   "source": [
    "# Policy Iteration"
   ]
  },
  {
   "cell_type": "markdown",
   "metadata": {},
   "source": [
    "An arbitrary policy is chosen at the begining of iteration and policy iteration is performed till the optimal policy is determined. Policy evaluation calcuates the utility values. "
   ]
  },
  {
   "cell_type": "code",
   "execution_count": 22,
   "metadata": {
    "collapsed": true
   },
   "outputs": [],
   "source": [
    "def policy_evaluation(policy,U,gamma,k=20):\n",
    "    for i in range(k):\n",
    "        for s in states:\n",
    "            if(s[1]==6):\n",
    "                U[s] = getR(s)\n",
    "            else:\n",
    "                U[s] = getR(s) + gamma*Value(s,policy[s],U)             \n",
    "    #print(U)\n",
    "    return U\n",
    "    \n",
    "def policy_iteration(policy,gamma):\n",
    "    U = dict([(s, 0) for s in states])\n",
    "    while True:\n",
    "        U = policy_evaluation(policy,U,gamma)\n",
    "        #print(U)\n",
    "        unchanged = True\n",
    "        for s in states:\n",
    "            l = []\n",
    "            if(s[1]!=6):\n",
    "                for a in actions:\n",
    "                    l.append((a,Value(s,a,U)))\n",
    "            if len(l) > 0:\n",
    "                m = max(l,key=lambda item:item[1])[1]\n",
    "            if(s[1]==6):\n",
    "                var=0.0\n",
    "            else:\n",
    "                var = Value(s,policy[s],U)\n",
    "            if m > var:\n",
    "                if len(l) > 0:\n",
    "                    policy[s] = max(l,key=lambda item:item[1])[0]\n",
    "                    unchanged = False\n",
    "        if unchanged:\n",
    "            #U = [round(U[s],4) for s in states]\n",
    "            print(\"Utility: \",U)\n",
    "            return policy"
   ]
  },
  {
   "cell_type": "markdown",
   "metadata": {},
   "source": [
    "MDP Problem is defined as global variables."
   ]
  },
  {
   "cell_type": "code",
   "execution_count": 24,
   "metadata": {
    "scrolled": false
   },
   "outputs": [
    {
     "name": "stdout",
     "output_type": "stream",
     "text": [
      "States:  [((), 1), ((), 2), ((), 3), ((), 4), ((), 5), ((), 6), ((1,), 2), ((1,), 3), ((1,), 4), ((1,), 5), ((1,), 6), ((2,), 3), ((2,), 4), ((2,), 5), ((2,), 6), ((3,), 4), ((3,), 5), ((3,), 6), ((4,), 5), ((4,), 6), ((5,), 6), ((1, 2), 3), ((1, 2), 4), ((1, 2), 5), ((1, 2), 6), ((1, 3), 4), ((1, 3), 5), ((1, 3), 6), ((1, 4), 5), ((1, 4), 6), ((1, 5), 6), ((1, 2, 3), 4), ((1, 2, 3), 5), ((1, 2, 3), 6), ((1, 2, 4), 5), ((1, 2, 4), 6), ((1, 2, 5), 6), ((1, 3, 4), 5), ((1, 3, 4), 6), ((1, 3, 5), 6), ((1, 4, 5), 6), ((1, 2, 3, 4), 5), ((1, 2, 3, 4), 6), ((1, 2, 3, 5), 6), ((1, 2, 4, 5), 6), ((1, 3, 4, 5), 6), ((1, 2, 3, 4, 5), 6), ((2, 3), 4), ((2, 3), 5), ((2, 3), 6), ((2, 4), 5), ((2, 4), 6), ((2, 5), 6), ((2, 3, 4), 5), ((2, 3, 4), 6), ((2, 3, 5), 6), ((2, 4, 5), 6), ((2, 3, 4, 5), 6), ((3, 4), 5), ((3, 4), 6), ((3, 5), 6), ((3, 4, 5), 6), ((4, 5), 6)]\n",
      "0.6\n",
      "Actions:  ['buy', 'dontbuy']\n"
     ]
    }
   ],
   "source": [
    "prob = dict()\n",
    "states = [((),1), ((),2), ((),3), ((),4), ((),5), ((),6), ((1,),2), ((1,),3), ((1,),4), ((1,),5), ((1,),6), ((2,),3), ((2,),4), ((2,),5), ((2,),6), ((3,),4), ((3,),5), ((3,),6), ((4,),5), ((4,),6), ((5,),6),\n",
    " ((1,2),3), ((1,2),4), ((1,2),5), ((1,2),6), ((1,3),4), ((1,3),5), ((1,3),6), ((1,4),5), ((1,4),6), ((1,5),6), ((1,2,3),4), ((1,2,3),5), ((1,2,3),6), ((1,2,4),5), ((1,2,4),6), ((1,2,5),6), ((1,3,4),5), ((1,3,4),6), ((1,3,5),6), ((1,4,5),6), ((1,2,3,4),5), ((1,2,3,4),6), ((1,2,3,5),6), ((1,2,4,5),6), ((1,3,4,5),6),  \n",
    " ((1,2,3,4,5),6), ((2,3),4), ((2,3),5), ((2,3),6), ((2,4),5), ((2,4),6), ((2,5),6), ((2,3,4),5), ((2,3,4),6), ((2,3,5),6), ((2,4,5),6), ((2,3,4,5),6),\n",
    " ((3,4),5), ((3,4),6), ((3,5),6), ((3,4,5),6),\n",
    " ((4,5),6)]\n",
    "print(\"States: \", states)\n",
    "prob={1:0.6,2:0.6,3:0.2,4:0.3,5:0.7}\n",
    "print(prob[1])\n",
    "actions = ['buy','dontbuy']\n",
    "print(\"Actions: \", actions)"
   ]
  },
  {
   "cell_type": "code",
   "execution_count": 34,
   "metadata": {
    "scrolled": false
   },
   "outputs": [
    {
     "name": "stdout",
     "output_type": "stream",
     "text": [
      "Discounting:  0.4\n",
      "\n",
      " Value Iteration\n",
      "{((), 1): 0, ((), 2): 0, ((), 3): 0, ((), 4): 0, ((), 5): 0, ((), 6): 0, ((1,), 2): 0, ((1,), 3): 0, ((1,), 4): 0, ((1,), 5): 0, ((1,), 6): 0, ((2,), 3): 0, ((2,), 4): 0, ((2,), 5): 0, ((2,), 6): 0, ((3,), 4): 0, ((3,), 5): 0, ((3,), 6): 0, ((4,), 5): 0, ((4,), 6): 0, ((5,), 6): 0, ((1, 2), 3): 0, ((1, 2), 4): 0, ((1, 2), 5): 0, ((1, 2), 6): 0, ((1, 3), 4): 0, ((1, 3), 5): 0, ((1, 3), 6): 0, ((1, 4), 5): 0, ((1, 4), 6): 0, ((1, 5), 6): 0, ((1, 2, 3), 4): 0, ((1, 2, 3), 5): 0, ((1, 2, 3), 6): 0, ((1, 2, 4), 5): 0, ((1, 2, 4), 6): 0, ((1, 2, 5), 6): 0, ((1, 3, 4), 5): 0, ((1, 3, 4), 6): 0, ((1, 3, 5), 6): 0, ((1, 4, 5), 6): 0, ((1, 2, 3, 4), 5): 0, ((1, 2, 3, 4), 6): 0, ((1, 2, 3, 5), 6): 0, ((1, 2, 4, 5), 6): 0, ((1, 3, 4, 5), 6): 0, ((1, 2, 3, 4, 5), 6): 0, ((2, 3), 4): 0, ((2, 3), 5): 0, ((2, 3), 6): 0, ((2, 4), 5): 0, ((2, 4), 6): 0, ((2, 5), 6): 0, ((2, 3, 4), 5): 0, ((2, 3, 4), 6): 0, ((2, 3, 5), 6): 0, ((2, 4, 5), 6): 0, ((2, 3, 4, 5), 6): 0, ((3, 4), 5): 0, ((3, 4), 6): 0, ((3, 5), 6): 0, ((3, 4, 5), 6): 0, ((4, 5), 6): 0}\n",
      "{((), 1): 0.0, ((), 2): 0.0, ((), 3): 0.0, ((), 4): 0.0, ((), 5): 0.0, ((), 6): -10.0, ((1,), 2): 0.0, ((1,), 3): 0.0, ((1,), 4): 0.0, ((1,), 5): 0.0, ((1,), 6): -2.0, ((2,), 3): 0.0, ((2,), 4): 0.0, ((2,), 5): 0.0, ((2,), 6): -2.0, ((3,), 4): 0.0, ((3,), 5): 0.0, ((3,), 6): -2.0, ((4,), 5): 0.0, ((4,), 6): -2.0, ((5,), 6): -2.0, ((1, 2), 3): 0.0, ((1, 2), 4): 0.0, ((1, 2), 5): 0.0, ((1, 2), 6): 14.0, ((1, 3), 4): 0.0, ((1, 3), 5): 0.0, ((1, 3), 6): -4.0, ((1, 4), 5): 0.0, ((1, 4), 6): 14.0, ((1, 5), 6): 14.0, ((1, 2, 3), 4): 0.0, ((1, 2, 3), 5): 0.0, ((1, 2, 3), 6): 8.0, ((1, 2, 4), 5): 0.0, ((1, 2, 4), 6): 10.0, ((1, 2, 5), 6): 20.0, ((1, 3, 4), 5): 0.0, ((1, 3, 4), 6): 8.0, ((1, 3, 5), 6): 8.0, ((1, 4, 5), 6): 10.0, ((1, 2, 3, 4), 5): 0.0, ((1, 2, 3, 4), 6): 6.0, ((1, 2, 3, 5), 6): 6.0, ((1, 2, 4, 5), 6): 6.0, ((1, 3, 4, 5), 6): 6.0, ((1, 2, 3, 4, 5), 6): 2.0, ((2, 3), 4): 0.0, ((2, 3), 5): 0.0, ((2, 3), 6): 14.0, ((2, 4), 5): 0.0, ((2, 4), 6): 12.0, ((2, 5), 6): 18.0, ((2, 3, 4), 5): 0.0, ((2, 3, 4), 6): 10.0, ((2, 3, 5), 6): 16.0, ((2, 4, 5), 6): 10.0, ((2, 3, 4, 5), 6): 6.0, ((3, 4), 5): 0.0, ((3, 4), 6): 14.0, ((3, 5), 6): 14.0, ((3, 4, 5), 6): 10.0, ((4, 5), 6): 12.0}\n",
      "{((), 1): 0.0, ((), 2): 0.0, ((), 3): 0.0, ((), 4): 0.0, ((), 5): -1.76, ((), 6): -10.0, ((1,), 2): 0.0, ((1,), 3): 0.0, ((1,), 4): 0.0, ((1,), 5): 3.68, ((1,), 6): -2.0, ((2,), 3): 0.0, ((2,), 4): 0.0, ((2,), 5): 4.8, ((2,), 6): -2.0, ((3,), 4): 0.0, ((3,), 5): 3.68, ((3,), 6): -2.0, ((4,), 5): 3.12, ((4,), 6): -2.0, ((5,), 6): -2.0, ((1, 2), 3): 0.0, ((1, 2), 4): 0.0, ((1, 2), 5): 7.28, ((1, 2), 6): 14.0, ((1, 3), 4): 0.0, ((1, 3), 5): 1.76, ((1, 3), 6): -4.0, ((1, 4), 5): 5.6, ((1, 4), 6): 14.0, ((1, 5), 6): 14.0, ((1, 2, 3), 4): 0.0, ((1, 2, 3), 5): 3.2, ((1, 2, 3), 6): 8.0, ((1, 2, 4), 5): 4.0, ((1, 2, 4), 6): 10.0, ((1, 2, 5), 6): 20.0, ((1, 3, 4), 5): 3.2, ((1, 3, 4), 6): 8.0, ((1, 3, 5), 6): 8.0, ((1, 4, 5), 6): 10.0, ((1, 2, 3, 4), 5): 2.4, ((1, 2, 3, 4), 6): 6.0, ((1, 2, 3, 5), 6): 6.0, ((1, 2, 4, 5), 6): 6.0, ((1, 3, 4, 5), 6): 6.0, ((1, 2, 3, 4, 5), 6): 2.0, ((2, 3), 4): 0.0, ((2, 3), 5): 6.16, ((2, 3), 6): 14.0, ((2, 4), 5): 4.8, ((2, 4), 6): 12.0, ((2, 5), 6): 18.0, ((2, 3, 4), 5): 4.0, ((2, 3, 4), 6): 10.0, ((2, 3, 5), 6): 16.0, ((2, 4, 5), 6): 10.0, ((2, 3, 4, 5), 6): 6.0, ((3, 4), 5): 5.6, ((3, 4), 6): 14.0, ((3, 5), 6): 14.0, ((3, 4, 5), 6): 10.0, ((4, 5), 6): 12.0}\n",
      "{((), 1): 0.0, ((), 2): 0.0, ((), 3): 0.0, ((), 4): -0.1184, ((), 5): -1.76, ((), 6): -10.0, ((1,), 2): 0.0, ((1,), 3): 0.0, ((1,), 4): 1.7024, ((1,), 5): 3.68, ((1,), 6): -2.0, ((2,), 3): 0.0, ((2,), 4): 1.92, ((2,), 5): 4.8, ((2,), 6): -2.0, ((3,), 4): 1.7024, ((3,), 5): 3.68, ((3,), 6): -2.0, ((4,), 5): 3.12, ((4,), 6): -2.0, ((5,), 6): -2.0, ((1, 2), 3): 0.0, ((1, 2), 4): 2.912, ((1, 2), 5): 7.28, ((1, 2), 6): 14.0, ((1, 3), 4): 0.8768, ((1, 3), 5): 1.76, ((1, 3), 6): -4.0, ((1, 4), 5): 5.6, ((1, 4), 6): 14.0, ((1, 5), 6): 14.0, ((1, 2, 3), 4): 1.28, ((1, 2, 3), 5): 3.2, ((1, 2, 3), 6): 8.0, ((1, 2, 4), 5): 4.0, ((1, 2, 4), 6): 10.0, ((1, 2, 5), 6): 20.0, ((1, 3, 4), 5): 3.2, ((1, 3, 4), 6): 8.0, ((1, 3, 5), 6): 8.0, ((1, 4, 5), 6): 10.0, ((1, 2, 3, 4), 5): 2.4, ((1, 2, 3, 4), 6): 6.0, ((1, 2, 3, 5), 6): 6.0, ((1, 2, 4, 5), 6): 6.0, ((1, 3, 4, 5), 6): 6.0, ((1, 2, 3, 4, 5), 6): 2.0, ((2, 3), 4): 2.464, ((2, 3), 5): 6.16, ((2, 3), 6): 14.0, ((2, 4), 5): 4.8, ((2, 4), 6): 12.0, ((2, 5), 6): 18.0, ((2, 3, 4), 5): 4.0, ((2, 3, 4), 6): 10.0, ((2, 3, 5), 6): 16.0, ((2, 4, 5), 6): 10.0, ((2, 3, 4, 5), 6): 6.0, ((3, 4), 5): 5.6, ((3, 4), 6): 14.0, ((3, 5), 6): 14.0, ((3, 4, 5), 6): 10.0, ((4, 5), 6): 12.0}\n",
      "{((), 1): 0.0, ((), 2): 0.0, ((), 3): 0.0983, ((), 4): -0.1184, ((), 5): -1.76, ((), 6): -10.0, ((1,), 2): 0.0, ((1,), 3): 0.681, ((1,), 4): 1.7024, ((1,), 5): 3.68, ((1,), 6): -2.0, ((2,), 3): 0.8115, ((2,), 4): 1.92, ((2,), 5): 4.8, ((2,), 6): -2.0, ((3,), 4): 1.7024, ((3,), 5): 3.68, ((3,), 6): -2.0, ((4,), 5): 3.12, ((4,), 6): -2.0, ((5,), 6): -2.0, ((1, 2), 3): 1.1648, ((1, 2), 4): 2.912, ((1, 2), 5): 7.28, ((1, 2), 6): 14.0, ((1, 3), 4): 0.8768, ((1, 3), 5): 1.76, ((1, 3), 6): -4.0, ((1, 4), 5): 5.6, ((1, 4), 6): 14.0, ((1, 5), 6): 14.0, ((1, 2, 3), 4): 1.28, ((1, 2, 3), 5): 3.2, ((1, 2, 3), 6): 8.0, ((1, 2, 4), 5): 4.0, ((1, 2, 4), 6): 10.0, ((1, 2, 5), 6): 20.0, ((1, 3, 4), 5): 3.2, ((1, 3, 4), 6): 8.0, ((1, 3, 5), 6): 8.0, ((1, 4, 5), 6): 10.0, ((1, 2, 3, 4), 5): 2.4, ((1, 2, 3, 4), 6): 6.0, ((1, 2, 3, 5), 6): 6.0, ((1, 2, 4, 5), 6): 6.0, ((1, 3, 4, 5), 6): 6.0, ((1, 2, 3, 4, 5), 6): 2.0, ((2, 3), 4): 2.464, ((2, 3), 5): 6.16, ((2, 3), 6): 14.0, ((2, 4), 5): 4.8, ((2, 4), 6): 12.0, ((2, 5), 6): 18.0, ((2, 3, 4), 5): 4.0, ((2, 3, 4), 6): 10.0, ((2, 3, 5), 6): 16.0, ((2, 4, 5), 6): 10.0, ((2, 3, 4, 5), 6): 6.0, ((3, 4), 5): 5.6, ((3, 4), 6): 14.0, ((3, 5), 6): 14.0, ((3, 4, 5), 6): 10.0, ((4, 5), 6): 12.0}\n",
      "{((), 1): 0.0, ((), 2): 0.2105, ((), 3): 0.0983, ((), 4): -0.1184, ((), 5): -1.76, ((), 6): -10.0, ((1,), 2): 0.3885, ((1,), 3): 0.681, ((1,), 4): 1.7024, ((1,), 5): 3.68, ((1,), 6): -2.0, ((2,), 3): 0.8115, ((2,), 4): 1.92, ((2,), 5): 4.8, ((2,), 6): -2.0, ((3,), 4): 1.7024, ((3,), 5): 3.68, ((3,), 6): -2.0, ((4,), 5): 3.12, ((4,), 6): -2.0, ((5,), 6): -2.0, ((1, 2), 3): 1.1648, ((1, 2), 4): 2.912, ((1, 2), 5): 7.28, ((1, 2), 6): 14.0, ((1, 3), 4): 0.8768, ((1, 3), 5): 1.76, ((1, 3), 6): -4.0, ((1, 4), 5): 5.6, ((1, 4), 6): 14.0, ((1, 5), 6): 14.0, ((1, 2, 3), 4): 1.28, ((1, 2, 3), 5): 3.2, ((1, 2, 3), 6): 8.0, ((1, 2, 4), 5): 4.0, ((1, 2, 4), 6): 10.0, ((1, 2, 5), 6): 20.0, ((1, 3, 4), 5): 3.2, ((1, 3, 4), 6): 8.0, ((1, 3, 5), 6): 8.0, ((1, 4, 5), 6): 10.0, ((1, 2, 3, 4), 5): 2.4, ((1, 2, 3, 4), 6): 6.0, ((1, 2, 3, 5), 6): 6.0, ((1, 2, 4, 5), 6): 6.0, ((1, 3, 4, 5), 6): 6.0, ((1, 2, 3, 4, 5), 6): 2.0, ((2, 3), 4): 2.464, ((2, 3), 5): 6.16, ((2, 3), 6): 14.0, ((2, 4), 5): 4.8, ((2, 4), 6): 12.0, ((2, 5), 6): 18.0, ((2, 3, 4), 5): 4.0, ((2, 3, 4), 6): 10.0, ((2, 3, 5), 6): 16.0, ((2, 4, 5), 6): 10.0, ((2, 3, 4, 5), 6): 6.0, ((3, 4), 5): 5.6, ((3, 4), 6): 14.0, ((3, 5), 6): 14.0, ((3, 4, 5), 6): 10.0, ((4, 5), 6): 12.0}\n",
      "{((), 1): 0.1269, ((), 2): 0.2105, ((), 3): 0.0983, ((), 4): -0.1184, ((), 5): -1.76, ((), 6): -10.0, ((1,), 2): 0.3885, ((1,), 3): 0.681, ((1,), 4): 1.7024, ((1,), 5): 3.68, ((1,), 6): -2.0, ((2,), 3): 0.8115, ((2,), 4): 1.92, ((2,), 5): 4.8, ((2,), 6): -2.0, ((3,), 4): 1.7024, ((3,), 5): 3.68, ((3,), 6): -2.0, ((4,), 5): 3.12, ((4,), 6): -2.0, ((5,), 6): -2.0, ((1, 2), 3): 1.1648, ((1, 2), 4): 2.912, ((1, 2), 5): 7.28, ((1, 2), 6): 14.0, ((1, 3), 4): 0.8768, ((1, 3), 5): 1.76, ((1, 3), 6): -4.0, ((1, 4), 5): 5.6, ((1, 4), 6): 14.0, ((1, 5), 6): 14.0, ((1, 2, 3), 4): 1.28, ((1, 2, 3), 5): 3.2, ((1, 2, 3), 6): 8.0, ((1, 2, 4), 5): 4.0, ((1, 2, 4), 6): 10.0, ((1, 2, 5), 6): 20.0, ((1, 3, 4), 5): 3.2, ((1, 3, 4), 6): 8.0, ((1, 3, 5), 6): 8.0, ((1, 4, 5), 6): 10.0, ((1, 2, 3, 4), 5): 2.4, ((1, 2, 3, 4), 6): 6.0, ((1, 2, 3, 5), 6): 6.0, ((1, 2, 4, 5), 6): 6.0, ((1, 3, 4, 5), 6): 6.0, ((1, 2, 3, 4, 5), 6): 2.0, ((2, 3), 4): 2.464, ((2, 3), 5): 6.16, ((2, 3), 6): 14.0, ((2, 4), 5): 4.8, ((2, 4), 6): 12.0, ((2, 5), 6): 18.0, ((2, 3, 4), 5): 4.0, ((2, 3, 4), 6): 10.0, ((2, 3, 5), 6): 16.0, ((2, 4, 5), 6): 10.0, ((2, 3, 4, 5), 6): 6.0, ((3, 4), 5): 5.6, ((3, 4), 6): 14.0, ((3, 5), 6): 14.0, ((3, 4, 5), 6): 10.0, ((4, 5), 6): 12.0}\n",
      "Number of iterations:  6\n",
      "Utility:  {((), 1): 0.1269, ((), 2): 0.2105, ((), 3): 0.0983, ((), 4): -0.1184, ((), 5): -1.76, ((), 6): -10.0, ((1,), 2): 0.3885, ((1,), 3): 0.681, ((1,), 4): 1.7024, ((1,), 5): 3.68, ((1,), 6): -2.0, ((2,), 3): 0.8115, ((2,), 4): 1.92, ((2,), 5): 4.8, ((2,), 6): -2.0, ((3,), 4): 1.7024, ((3,), 5): 3.68, ((3,), 6): -2.0, ((4,), 5): 3.12, ((4,), 6): -2.0, ((5,), 6): -2.0, ((1, 2), 3): 1.1648, ((1, 2), 4): 2.912, ((1, 2), 5): 7.28, ((1, 2), 6): 14.0, ((1, 3), 4): 0.8768, ((1, 3), 5): 1.76, ((1, 3), 6): -4.0, ((1, 4), 5): 5.6, ((1, 4), 6): 14.0, ((1, 5), 6): 14.0, ((1, 2, 3), 4): 1.28, ((1, 2, 3), 5): 3.2, ((1, 2, 3), 6): 8.0, ((1, 2, 4), 5): 4.0, ((1, 2, 4), 6): 10.0, ((1, 2, 5), 6): 20.0, ((1, 3, 4), 5): 3.2, ((1, 3, 4), 6): 8.0, ((1, 3, 5), 6): 8.0, ((1, 4, 5), 6): 10.0, ((1, 2, 3, 4), 5): 2.4, ((1, 2, 3, 4), 6): 6.0, ((1, 2, 3, 5), 6): 6.0, ((1, 2, 4, 5), 6): 6.0, ((1, 3, 4, 5), 6): 6.0, ((1, 2, 3, 4, 5), 6): 2.0, ((2, 3), 4): 2.464, ((2, 3), 5): 6.16, ((2, 3), 6): 14.0, ((2, 4), 5): 4.8, ((2, 4), 6): 12.0, ((2, 5), 6): 18.0, ((2, 3, 4), 5): 4.0, ((2, 3, 4), 6): 10.0, ((2, 3, 5), 6): 16.0, ((2, 4, 5), 6): 10.0, ((2, 3, 4, 5), 6): 6.0, ((3, 4), 5): 5.6, ((3, 4), 6): 14.0, ((3, 5), 6): 14.0, ((3, 4, 5), 6): 10.0, ((4, 5), 6): 12.0}\n",
      "Optimal Policy:  {((), 1): 'buy', ((), 2): 'buy', ((), 3): 'buy', ((), 4): 'buy', ((), 5): 'buy', ((), 6): 'Terminal State', ((1,), 2): 'buy', ((1,), 3): 'dontbuy', ((1,), 4): 'buy', ((1,), 5): 'buy', ((1,), 6): 'Terminal State', ((2,), 3): 'buy', ((2,), 4): 'buy', ((2,), 5): 'buy', ((2,), 6): 'Terminal State', ((3,), 4): 'buy', ((3,), 5): 'buy', ((3,), 6): 'Terminal State', ((4,), 5): 'buy', ((4,), 6): 'Terminal State', ((5,), 6): 'Terminal State', ((1, 2), 3): 'dontbuy', ((1, 2), 4): 'dontbuy', ((1, 2), 5): 'buy', ((1, 2), 6): 'Terminal State', ((1, 3), 4): 'buy', ((1, 3), 5): 'buy', ((1, 3), 6): 'Terminal State', ((1, 4), 5): 'dontbuy', ((1, 4), 6): 'Terminal State', ((1, 5), 6): 'Terminal State', ((1, 2, 3), 4): 'dontbuy', ((1, 2, 3), 5): 'dontbuy', ((1, 2, 3), 6): 'Terminal State', ((1, 2, 4), 5): 'dontbuy', ((1, 2, 4), 6): 'Terminal State', ((1, 2, 5), 6): 'Terminal State', ((1, 3, 4), 5): 'dontbuy', ((1, 3, 4), 6): 'Terminal State', ((1, 3, 5), 6): 'Terminal State', ((1, 4, 5), 6): 'Terminal State', ((1, 2, 3, 4), 5): 'dontbuy', ((1, 2, 3, 4), 6): 'Terminal State', ((1, 2, 3, 5), 6): 'Terminal State', ((1, 2, 4, 5), 6): 'Terminal State', ((1, 3, 4, 5), 6): 'Terminal State', ((1, 2, 3, 4, 5), 6): 'Terminal State', ((2, 3), 4): 'dontbuy', ((2, 3), 5): 'buy', ((2, 3), 6): 'Terminal State', ((2, 4), 5): 'dontbuy', ((2, 4), 6): 'Terminal State', ((2, 5), 6): 'Terminal State', ((2, 3, 4), 5): 'dontbuy', ((2, 3, 4), 6): 'Terminal State', ((2, 3, 5), 6): 'Terminal State', ((2, 4, 5), 6): 'Terminal State', ((2, 3, 4, 5), 6): 'Terminal State', ((3, 4), 5): 'dontbuy', ((3, 4), 6): 'Terminal State', ((3, 5), 6): 'Terminal State', ((3, 4, 5), 6): 'Terminal State', ((4, 5), 6): 'Terminal State'}\n",
      "\n",
      " Policy iteration\n",
      "Given Policy:  {((), 1): 'dontbuy', ((), 2): 'dontbuy', ((), 3): 'dontbuy', ((), 4): 'dontbuy', ((), 5): 'dontbuy', ((), 6): 'Terminal State', ((1,), 2): 'dontbuy', ((1,), 3): 'buy', ((1,), 4): 'dontbuy', ((1,), 5): 'dontbuy', ((1,), 6): 'Terminal State', ((2,), 3): 'dontbuy', ((2,), 4): 'dontbuy', ((2,), 5): 'dontbuy', ((2,), 6): 'Terminal State', ((3,), 4): 'dontbuy', ((3,), 5): 'dontbuy', ((3,), 6): 'Terminal State', ((4,), 5): 'dontbuy', ((4,), 6): 'Terminal State', ((5,), 6): 'Terminal State', ((1, 2), 3): 'buy', ((1, 2), 4): 'buy', ((1, 2), 5): 'dontbuy', ((1, 2), 6): 'Terminal State', ((1, 3), 4): 'dontbuy', ((1, 3), 5): 'dontbuy', ((1, 3), 6): 'Terminal State', ((1, 4), 5): 'buy', ((1, 4), 6): 'Terminal State', ((1, 5), 6): 'Terminal State', ((1, 2, 3), 4): 'buy', ((1, 2, 3), 5): 'buy', ((1, 2, 3), 6): 'Terminal State', ((1, 2, 4), 5): 'buy', ((1, 2, 4), 6): 'Terminal State', ((1, 2, 5), 6): 'Terminal State', ((1, 3, 4), 5): 'buy', ((1, 3, 4), 6): 'Terminal State', ((1, 3, 5), 6): 'Terminal State', ((1, 4, 5), 6): 'Terminal State', ((1, 2, 3, 4), 5): 'buy', ((1, 2, 3, 4), 6): 'Terminal State', ((1, 2, 3, 5), 6): 'Terminal State', ((1, 2, 4, 5), 6): 'Terminal State', ((1, 3, 4, 5), 6): 'Terminal State', ((1, 2, 3, 4, 5), 6): 'Terminal State', ((2, 3), 4): 'buy', ((2, 3), 5): 'dontbuy', ((2, 3), 6): 'Terminal State', ((2, 4), 5): 'buy', ((2, 4), 6): 'Terminal State', ((2, 5), 6): 'Terminal State', ((2, 3, 4), 5): 'buy', ((2, 3, 4), 6): 'Terminal State', ((2, 3, 5), 6): 'Terminal State', ((2, 4, 5), 6): 'Terminal State', ((2, 3, 4, 5), 6): 'Terminal State', ((3, 4), 5): 'buy', ((3, 4), 6): 'Terminal State', ((3, 5), 6): 'Terminal State', ((3, 4, 5), 6): 'Terminal State', ((4, 5), 6): 'Terminal State'}\n"
     ]
    },
    {
     "name": "stdout",
     "output_type": "stream",
     "text": [
      "\n",
      " Policy evaluation:  {((), 1): -3.276800000000001, ((), 2): -4.096000000000001, ((), 3): -5.120000000000001, ((), 4): -6.4, ((), 5): -8.0, ((), 6): -10, ((1,), 2): -0.9830400000000005, ((1,), 3): -1.2288000000000006, ((1,), 4): -1.2800000000000002, ((1,), 5): -1.6, ((1,), 6): -2, ((2,), 3): -1.0240000000000002, ((2,), 4): -1.2800000000000002, ((2,), 5): -1.6, ((2,), 6): -2, ((3,), 4): -1.2800000000000002, ((3,), 5): -1.6, ((3,), 6): -2, ((4,), 5): -1.6, ((4,), 6): -2, ((5,), 6): -2, ((1, 2), 3): 5.470208, ((1, 2), 4): 7.6544, ((1, 2), 5): 11.200000000000001, ((1, 2), 6): 14, ((1, 3), 4): -2.5600000000000005, ((1, 3), 5): -3.2, ((1, 3), 6): -4, ((1, 4), 5): 8.96, ((1, 4), 6): 14, ((1, 5), 6): 14, ((1, 2, 3), 4): 3.5711999999999997, ((1, 2, 3), 5): 5.28, ((1, 2, 3), 6): 8, ((1, 2, 4), 5): 5.76, ((1, 2, 4), 6): 10, ((1, 2, 5), 6): 20, ((1, 3, 4), 5): 5.28, ((1, 3, 4), 6): 8, ((1, 3, 5), 6): 8, ((1, 4, 5), 6): 10, ((1, 2, 3, 4), 5): 2.5600000000000005, ((1, 2, 3, 4), 6): 6, ((1, 2, 3, 5), 6): 6, ((1, 2, 4, 5), 6): 6, ((1, 3, 4, 5), 6): 6, ((1, 2, 3, 4, 5), 6): 2, ((2, 3), 4): 7.6544, ((2, 3), 5): 11.200000000000001, ((2, 3), 6): 14, ((2, 4), 5): 8.480000000000002, ((2, 4), 6): 12, ((2, 5), 6): 18, ((2, 3, 4), 5): 5.76, ((2, 3, 4), 6): 10, ((2, 3, 5), 6): 16, ((2, 4, 5), 6): 10, ((2, 3, 4, 5), 6): 6, ((3, 4), 5): 8.96, ((3, 4), 6): 14, ((3, 5), 6): 14, ((3, 4, 5), 6): 10, ((4, 5), 6): 12}\n",
      "Utility:  {((), 1): 0.12692029440000005, ((), 2): 0.21049344000000003, ((), 3): 0.098304, ((), 4): -0.11840000000000006, ((), 5): -1.7600000000000002, ((), 6): -10, ((1,), 2): 0.3885056000000001, ((1,), 3): 0.6809600000000001, ((1,), 4): 1.7024000000000001, ((1,), 5): 3.6799999999999997, ((1,), 6): -2, ((2,), 3): 0.8115200000000002, ((2,), 4): 1.9200000000000004, ((2,), 5): 4.800000000000001, ((2,), 6): -2, ((3,), 4): 1.7024000000000001, ((3,), 5): 3.6799999999999997, ((3,), 6): -2, ((4,), 5): 3.1199999999999997, ((4,), 6): -2, ((5,), 6): -2, ((1, 2), 3): 1.1648000000000003, ((1, 2), 4): 2.912000000000001, ((1, 2), 5): 7.280000000000001, ((1, 2), 6): 14, ((1, 3), 4): 0.8767999999999999, ((1, 3), 5): 1.7599999999999998, ((1, 3), 6): -4, ((1, 4), 5): 5.6000000000000005, ((1, 4), 6): 14, ((1, 5), 6): 14, ((1, 2, 3), 4): 1.2800000000000002, ((1, 2, 3), 5): 3.2, ((1, 2, 3), 6): 8, ((1, 2, 4), 5): 4.0, ((1, 2, 4), 6): 10, ((1, 2, 5), 6): 20, ((1, 3, 4), 5): 3.2, ((1, 3, 4), 6): 8, ((1, 3, 5), 6): 8, ((1, 4, 5), 6): 10, ((1, 2, 3, 4), 5): 2.4000000000000004, ((1, 2, 3, 4), 6): 6, ((1, 2, 3, 5), 6): 6, ((1, 2, 4, 5), 6): 6, ((1, 3, 4, 5), 6): 6, ((1, 2, 3, 4, 5), 6): 2, ((2, 3), 4): 2.4640000000000004, ((2, 3), 5): 6.16, ((2, 3), 6): 14, ((2, 4), 5): 4.800000000000001, ((2, 4), 6): 12, ((2, 5), 6): 18, ((2, 3, 4), 5): 4.0, ((2, 3, 4), 6): 10, ((2, 3, 5), 6): 16, ((2, 4, 5), 6): 10, ((2, 3, 4, 5), 6): 6, ((3, 4), 5): 5.6000000000000005, ((3, 4), 6): 14, ((3, 5), 6): 14, ((3, 4, 5), 6): 10, ((4, 5), 6): 12}\n",
      "Optimal Policy:  {((), 1): 'buy', ((), 2): 'buy', ((), 3): 'buy', ((), 4): 'buy', ((), 5): 'buy', ((), 6): 'Terminal State', ((1,), 2): 'buy', ((1,), 3): 'dontbuy', ((1,), 4): 'buy', ((1,), 5): 'buy', ((1,), 6): 'Terminal State', ((2,), 3): 'buy', ((2,), 4): 'buy', ((2,), 5): 'buy', ((2,), 6): 'Terminal State', ((3,), 4): 'buy', ((3,), 5): 'buy', ((3,), 6): 'Terminal State', ((4,), 5): 'buy', ((4,), 6): 'Terminal State', ((5,), 6): 'Terminal State', ((1, 2), 3): 'dontbuy', ((1, 2), 4): 'dontbuy', ((1, 2), 5): 'buy', ((1, 2), 6): 'Terminal State', ((1, 3), 4): 'buy', ((1, 3), 5): 'buy', ((1, 3), 6): 'Terminal State', ((1, 4), 5): 'dontbuy', ((1, 4), 6): 'Terminal State', ((1, 5), 6): 'Terminal State', ((1, 2, 3), 4): 'dontbuy', ((1, 2, 3), 5): 'dontbuy', ((1, 2, 3), 6): 'Terminal State', ((1, 2, 4), 5): 'dontbuy', ((1, 2, 4), 6): 'Terminal State', ((1, 2, 5), 6): 'Terminal State', ((1, 3, 4), 5): 'dontbuy', ((1, 3, 4), 6): 'Terminal State', ((1, 3, 5), 6): 'Terminal State', ((1, 4, 5), 6): 'Terminal State', ((1, 2, 3, 4), 5): 'dontbuy', ((1, 2, 3, 4), 6): 'Terminal State', ((1, 2, 3, 5), 6): 'Terminal State', ((1, 2, 4, 5), 6): 'Terminal State', ((1, 3, 4, 5), 6): 'Terminal State', ((1, 2, 3, 4, 5), 6): 'Terminal State', ((2, 3), 4): 'dontbuy', ((2, 3), 5): 'buy', ((2, 3), 6): 'Terminal State', ((2, 4), 5): 'dontbuy', ((2, 4), 6): 'Terminal State', ((2, 5), 6): 'Terminal State', ((2, 3, 4), 5): 'dontbuy', ((2, 3, 4), 6): 'Terminal State', ((2, 3, 5), 6): 'Terminal State', ((2, 4, 5), 6): 'Terminal State', ((2, 3, 4, 5), 6): 'Terminal State', ((3, 4), 5): 'dontbuy', ((3, 4), 6): 'Terminal State', ((3, 5), 6): 'Terminal State', ((3, 4, 5), 6): 'Terminal State', ((4, 5), 6): 'Terminal State'}\n"
     ]
    }
   ],
   "source": [
    "gamma = 0.4\n",
    "print(\"Discounting: \", gamma)\n",
    "\n",
    "print(\"\\n Value Iteration\")\n",
    "utility = value_iteration(gamma)\n",
    "print(\"Utility: \",utility)\n",
    "\n",
    "best_policy = optimal_policy(utility)\n",
    "print(\"Optimal Policy: \", best_policy)\n",
    "\n",
    "print(\"\\n Policy iteration\")\n",
    "policy = {((), 1): 'dontbuy', ((), 2): 'dontbuy', ((), 3): 'dontbuy', ((), 4): 'dontbuy', ((), 5): 'dontbuy', ((), 6): 'Terminal State', ((1,), 2): 'dontbuy', ((1,), 3): 'buy', ((1,), 4): 'dontbuy', ((1,), 5): 'dontbuy', ((1,), 6): 'Terminal State', ((2,), 3): 'dontbuy', ((2,), 4): 'dontbuy', ((2,), 5): 'dontbuy', ((2,), 6): 'Terminal State', ((3,), 4): 'dontbuy', ((3,), 5): 'dontbuy', ((3,), 6): 'Terminal State', ((4,), 5): 'dontbuy', ((4,), 6): 'Terminal State', ((5,), 6): 'Terminal State', ((1, 2), 3): 'buy', ((1, 2), 4): 'buy', ((1, 2), 5): 'dontbuy', ((1, 2), 6): 'Terminal State', ((1, 3), 4): 'dontbuy', ((1, 3), 5): 'dontbuy', ((1, 3), 6): 'Terminal State', ((1, 4), 5): 'buy', ((1, 4), 6): 'Terminal State', ((1, 5), 6): 'Terminal State', ((1, 2, 3), 4): 'buy', ((1, 2, 3), 5): 'buy', ((1, 2, 3), 6): 'Terminal State', ((1, 2, 4), 5): 'buy', ((1, 2, 4), 6): 'Terminal State', ((1, 2, 5), 6): 'Terminal State', ((1, 3, 4), 5): 'buy', ((1, 3, 4), 6): 'Terminal State', ((1, 3, 5), 6): 'Terminal State', ((1, 4, 5), 6): 'Terminal State', ((1, 2, 3, 4), 5): 'buy', ((1, 2, 3, 4), 6): 'Terminal State', ((1, 2, 3, 5), 6): 'Terminal State', ((1, 2, 4, 5), 6): 'Terminal State', ((1, 3, 4, 5), 6): 'Terminal State', ((1, 2, 3, 4, 5), 6): 'Terminal State', ((2, 3), 4): 'buy', ((2, 3), 5): 'dontbuy', ((2, 3), 6): 'Terminal State', ((2, 4), 5): 'buy', ((2, 4), 6): 'Terminal State', ((2, 5), 6): 'Terminal State', ((2, 3, 4), 5): 'buy', ((2, 3, 4), 6): 'Terminal State', ((2, 3, 5), 6): 'Terminal State', ((2, 4, 5), 6): 'Terminal State', ((2, 3, 4, 5), 6): 'Terminal State', ((3, 4), 5): 'buy', ((3, 4), 6): 'Terminal State', ((3, 5), 6): 'Terminal State', ((3, 4, 5), 6): 'Terminal State', ((4, 5), 6): 'Terminal State'}\n",
    "print(\"Given Policy: \",policy)\n",
    "U = dict([(s, 0) for s in states])\n",
    "print(\"\\n Policy evaluation: \",policy_evaluation(policy,U,0.8))\n",
    "p = policy_iteration(policy, gamma)\n",
    "print(\"Optimal Policy: \",p)"
   ]
  },
  {
   "cell_type": "code",
   "execution_count": null,
   "metadata": {
    "collapsed": true
   },
   "outputs": [],
   "source": []
  }
 ],
 "metadata": {
  "kernelspec": {
   "display_name": "Python 3",
   "language": "python",
   "name": "python3"
  },
  "language_info": {
   "codemirror_mode": {
    "name": "ipython",
    "version": 3
   },
   "file_extension": ".py",
   "mimetype": "text/x-python",
   "name": "python",
   "nbconvert_exporter": "python",
   "pygments_lexer": "ipython3",
   "version": "3.6.3"
  }
 },
 "nbformat": 4,
 "nbformat_minor": 2
}
